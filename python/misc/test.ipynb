{
 "cells": [
  {
   "cell_type": "code",
   "execution_count": 1,
   "id": "68ad6f15",
   "metadata": {},
   "outputs": [],
   "source": [
    "import numpy as np\n",
    "import matplotlib.pyplot as plt"
   ]
  },
  {
   "cell_type": "code",
   "execution_count": 10,
   "id": "29157ac8",
   "metadata": {},
   "outputs": [
    {
     "name": "stdout",
     "output_type": "stream",
     "text": [
      "[-1.70864438 -0.74180362  0.46675229]\n"
     ]
    }
   ],
   "source": [
    "v = np.array([-1.97675e+10,-8.58201e+09,5.39991e+09])\n",
    "v2 = np.array([1.1282e+10,5.78562e+09,-2.89281e+08])\n",
    "lattice_constant = 5.431e-10\n",
    "factor_fourier = 2 * np.pi / lattice_constant\n",
    "v_fourier = v / factor_fourier\n",
    "print(v_fourier)"
   ]
  },
  {
   "cell_type": "code",
   "execution_count": 4,
   "id": "61c6f225",
   "metadata": {},
   "outputs": [],
   "source": [
    "base = [np.array([-1,1,1]), np.array([1,-1,1]), np.array([1,1,-1])]"
   ]
  },
  {
   "cell_type": "code",
   "execution_count": 32,
   "id": "384e9fdb",
   "metadata": {},
   "outputs": [],
   "source": [
    "# def retrieve_k_inside_mesh_geometry(k) {\n",
    "#     // Implement the logic to retrieve the folded k vector inside the mesh geometry\n",
    "#     // This is a placeholder implementation\n",
    "#     return k;\n",
    "# }\n",
    "\n",
    "# bool MeshBZ::is_inside_mesh_geometry(const Vector3D<double>& k) const {\n",
    "#     const double     s   = si_to_reduced_scale();   // SI → reduced\n",
    "#     const double     hw  = bz_halfwidth_reduced();  // half width in reduced units\n",
    "#     constexpr double eps = 1e-12;\n",
    "\n",
    "#     const double kx = k.X * s;\n",
    "#     const double ky = k.Y * s;\n",
    "#     const double kz = k.Z * s;\n",
    "\n",
    "#     const double ax = std::abs(kx);\n",
    "#     const double ay = std::abs(ky);\n",
    "#     const double az = std::abs(kz);\n",
    "\n",
    "#     const bool cond1 = (ax <= hw + eps) && (ay <= hw + eps) && (az <= hw + eps);\n",
    "#     const bool cond2 = (ax + ay + az) <= (1.5 * hw + eps);\n",
    "\n",
    "#     return cond1 && cond2;\n",
    "# }\n",
    "\n",
    "def is_inside_mesh_geometry(k):\n",
    "    hw = 1.\n",
    "    eps = 0\n",
    "\n",
    "    kx = k[0]\n",
    "    ky = k[1]\n",
    "    kz = k[2]\n",
    "\n",
    "    ax = abs(kx)\n",
    "    ay = abs(ky)\n",
    "    az = abs(kz)\n",
    "\n",
    "    cond1 = (ax <= hw + eps) and (ay <= hw + eps) and (az <= hw + eps)\n",
    "    cond2 = (ax + ay + az) <= (1.5 * hw + eps)\n",
    "\n",
    "    return cond1 and cond2\n",
    "\n",
    "def retrieve_k_in_bz(k):\n",
    "    NN = 3\n",
    "    for nx in range(-NN, NN + 1):\n",
    "        for ny in range(-NN, NN + 1):\n",
    "            for nz in range(-NN, NN + 1):\n",
    "                G = nx * base[0] + ny * base[1] + nz * base[2]\n",
    "                k_folded = k + G\n",
    "                if is_inside_mesh_geometry(k_folded):\n",
    "                    print(nx, ny, nz)\n",
    "                    print(G)\n",
    "                    return (k_folded, G)\n",
    "    raise RuntimeError(\"No valid k found inside BZ\")\n",
    "\n"
   ]
  },
  {
   "cell_type": "code",
   "execution_count": 34,
   "id": "bf04d1b1",
   "metadata": {},
   "outputs": [
    {
     "name": "stdout",
     "output_type": "stream",
     "text": [
      "Le cachalot est dans la boite :  [-1.548926    0.21599754 -1.17235435] False\n",
      "1 2 1\n",
      "[2 0 2]\n",
      "(array([0.451074  , 0.21599754, 0.82764565]), array([2, 0, 2]))\n"
     ]
    }
   ],
   "source": [
    "\n",
    "vv= (-1.79197e+10,2.4989e+09,-1.35631e+10)\n",
    "vv_fourier = np.array(vv) / factor_fourier\n",
    "\n",
    "print(\"Le cachalot est dans la boite : \", vv_fourier, is_inside_mesh_geometry(vv_fourier))\n",
    "\n",
    "retrieved_k = retrieve_k_in_bz(vv_fourier)\n",
    "print(retrieved_k)\n",
    "# Write new k in a csv file (happend)\n",
    "f = open(\"k_folded.csv\", \"w\")\n",
    "f.write(f\"{retrieved_k[0][0]},{retrieved_k[0][1]},{retrieved_k[0][2]}\\n\")\n",
    "f.close()"
   ]
  },
  {
   "cell_type": "code",
   "execution_count": null,
   "id": "922d0d3a",
   "metadata": {},
   "outputs": [],
   "source": []
  }
 ],
 "metadata": {
  "kernelspec": {
   "display_name": "main",
   "language": "python",
   "name": "python3"
  },
  "language_info": {
   "codemirror_mode": {
    "name": "ipython",
    "version": 3
   },
   "file_extension": ".py",
   "mimetype": "text/x-python",
   "name": "python",
   "nbconvert_exporter": "python",
   "pygments_lexer": "ipython3",
   "version": "3.10.16"
  }
 },
 "nbformat": 4,
 "nbformat_minor": 5
}

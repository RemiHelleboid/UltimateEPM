{
 "cells": [
  {
   "cell_type": "code",
   "execution_count": 1,
   "id": "feb4ca8f",
   "metadata": {},
   "outputs": [],
   "source": [
    "import numpy as np\n",
    "\n",
    "import sys, os\n",
    "import itertools\n",
    "\n"
   ]
  },
  {
   "cell_type": "code",
   "execution_count": 2,
   "id": "35512036",
   "metadata": {},
   "outputs": [],
   "source": [
    "def _permutation_matrices():\n",
    "    mats = []\n",
    "    for perm in itertools.permutations(range(3)):\n",
    "        P = np.zeros((3, 3), dtype=int)\n",
    "        for i, j in enumerate(perm):\n",
    "            P[i, j] = 1\n",
    "        mats.append(P)\n",
    "    return mats  # 6"
   ]
  },
  {
   "cell_type": "code",
   "execution_count": 3,
   "id": "25c4f20a",
   "metadata": {},
   "outputs": [
    {
     "name": "stdout",
     "output_type": "stream",
     "text": [
      "[[1 0 0]\n",
      " [0 1 0]\n",
      " [0 0 1]]\n",
      "\n",
      "[[1 0 0]\n",
      " [0 0 1]\n",
      " [0 1 0]]\n",
      "\n",
      "[[0 1 0]\n",
      " [1 0 0]\n",
      " [0 0 1]]\n",
      "\n",
      "[[0 1 0]\n",
      " [0 0 1]\n",
      " [1 0 0]]\n",
      "\n",
      "[[0 0 1]\n",
      " [1 0 0]\n",
      " [0 1 0]]\n",
      "\n",
      "[[0 0 1]\n",
      " [0 1 0]\n",
      " [1 0 0]]\n",
      "\n"
     ]
    }
   ],
   "source": [
    "pp = _permutation_matrices()\n",
    "for m in pp:\n",
    "    print(m)\n",
    "    print()"
   ]
  },
  {
   "cell_type": "code",
   "execution_count": null,
   "id": "9c00cd89",
   "metadata": {},
   "outputs": [],
   "source": []
  }
 ],
 "metadata": {
  "kernelspec": {
   "display_name": "main",
   "language": "python",
   "name": "python3"
  },
  "language_info": {
   "codemirror_mode": {
    "name": "ipython",
    "version": 3
   },
   "file_extension": ".py",
   "mimetype": "text/x-python",
   "name": "python",
   "nbconvert_exporter": "python",
   "pygments_lexer": "ipython3",
   "version": "3.10.16"
  }
 },
 "nbformat": 4,
 "nbformat_minor": 5
}
